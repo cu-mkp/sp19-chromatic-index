{
 "cells": [
  {
   "cell_type": "code",
   "execution_count": null,
   "metadata": {},
   "outputs": [
    {
     "name": "stdout",
     "output_type": "stream",
     "text": [
      "Chromatic Index for Bnf Ms Fr 640. Please press 1 for Red when prompted, or ''e'' to exit.\n",
      "Input 1 for Red or e to exit.1\n",
      "Red. Press 1 for the generic color \"red\"; press 2 for red materials; press 3 for red pigments/dyes; press 4 for colors derived from red; press 0 to return to main menu.\n",
      "Input 1, 2, 3, 4, or 0.2\n",
      "Red materials. The list of materials will be printed, input the material you want.\n",
      "crimson\n",
      "\n",
      "velvet\n",
      "\n",
      "armenian bole\n",
      "\n",
      "beef\n",
      "\n",
      "blood\n",
      "\n",
      "bloodstone\n",
      "\n",
      "bone marrow\n",
      "\n",
      "brazilwood\n",
      "\n",
      "brick\n",
      "\n",
      "bronze\n",
      "\n",
      "burnt earth\n",
      "\n",
      "chicken gut\n",
      "\n",
      "clay\n",
      "\n",
      "clay earth\n",
      "\n",
      "copper\n",
      "\n",
      "cornaline\n",
      "\n",
      "crocum ferri\n",
      "\n",
      "distilled vinegar\n",
      "\n",
      "dragon's blood\n",
      "\n",
      "eau-de-vie\n",
      "\n",
      "enamel\n",
      "\n",
      "fatty red earth\n",
      "\n",
      "garnets\n",
      "\n",
      "gules red enamel\n",
      "\n",
      "incarnadine\n",
      "\n",
      "jacinth\n",
      "\n",
      "jasper\n",
      "\n",
      "lake\n",
      "\n",
      "latten\n",
      "\n",
      "light sanguine\n",
      "\n",
      "lit charcoal\n",
      "\n",
      "madder\n",
      "\n",
      "meat\n",
      "\n",
      "minium\n",
      "\n",
      "ochre\n",
      "\n",
      "old urine\n",
      "\n",
      "persicaire flowers\n",
      "\n",
      "pig's bladder\n",
      "\n",
      "pomegranate flowers\n",
      "\n",
      "porphyry\n",
      "\n",
      "pure scarlet pastel\n",
      "\n",
      "raw mutton flesh\n",
      "\n",
      "realgar\n",
      "\n",
      "red copper\n",
      "\n",
      "red varnish\n",
      "\n",
      "red wax\n",
      "\n",
      "roof tile\n",
      "\n",
      "roots of a young elm\n",
      "\n",
      "roses\n",
      "\n",
      "rouge clair\n",
      "\n",
      "rowan\n",
      "\n",
      "rubified antimony\n",
      "\n",
      "ruby\n",
      "\n",
      "rust\n",
      "\n",
      "saffron\n",
      "\n",
      "sandalwood\n",
      "\n",
      "sandstone powder\n",
      "\n",
      "sanguine\n",
      "\n",
      "tripoli\n",
      "\n",
      "umber\n",
      "\n",
      "vermilion\n",
      "\n",
      "vinegar\n",
      "\n",
      "wine\n",
      "Please enter the material you want EXACTLY as it appeared - all lowercase, spaces where appropriate.\n",
      "Please input your desired material: vermillion\n",
      "Searching for: vermillion\n",
      "\n"
     ]
    },
    {
     "data": {
      "image/png": "[encoded data removed]",
      "text/plain": [
       "<matplotlib.figure.Figure at 0x25cd93cb0b8>"
      ]
     },
     "metadata": {},
     "output_type": "display_data"
    },
    {
     "name": "stdout",
     "output_type": "stream",
     "text": [
      "tl_p074v_preTEI.txt\n",
      "==========\n",
      "\n",
      "\n",
      "Displaying 1 of 1 matches:\n",
      "r . For making red varnish Take vermillion and make it soak in gum water q\n",
      "==========\n",
      "\n",
      "\n",
      "tl_p075r_preTEI.txt\n",
      "==========\n",
      "\n",
      "\n",
      "Displaying 1 of 1 matches:\n",
      "                                vermillion , & a little of resinsresin pit\n",
      "==========\n",
      "\n",
      "\n",
      "tl_p078r_preTEI.txt\n",
      "==========\n",
      "\n",
      "\n",
      "Displaying 1 of 1 matches:\n",
      "u . For making red varnish Take vermillion & soak it with gum water as wel\n",
      "==========\n",
      "\n",
      "\n",
      "tl_p163v_preTEI.txt\n",
      "==========\n",
      "\n",
      "\n",
      "Displaying 1 of 1 matches:\n",
      "approaches crushed aes ustum or vermillion . But the first one , finely gr\n",
      "==========\n",
      "\n",
      "\n",
      "Links to folios\n",
      "\n",
      "https://github.com/cu-mkp/m-k-manuscript-data/blob/master/ms-txt/tl/tl_p074v_preTEI.txt\n"
     ]
    },
    {
     "data": {
      "text/html": [
       "<a href=https://github.com/cu-mkp/m-k-manuscript-data/blob/master/ms-txt/tl/tl_p074v_preTEI.txt>tl_p074v_preTEI.txt</a>"
      ],
      "text/plain": [
       "<IPython.core.display.HTML object>"
      ]
     },
     "metadata": {},
     "output_type": "display_data"
    },
    {
     "data": {
      "text/plain": [
       "<IPython.core.display.HTML object>"
      ]
     },
     "metadata": {},
     "output_type": "display_data"
    },
    {
     "name": "stdout",
     "output_type": "stream",
     "text": [
      "https://github.com/cu-mkp/m-k-manuscript-data/blob/master/ms-txt/tl/tl_p075r_preTEI.txt\n"
     ]
    },
    {
     "data": {
      "text/html": [
       "<a href=https://github.com/cu-mkp/m-k-manuscript-data/blob/master/ms-txt/tl/tl_p075r_preTEI.txt>tl_p075r_preTEI.txt</a>"
      ],
      "text/plain": [
       "<IPython.core.display.HTML object>"
      ]
     },
     "metadata": {},
     "output_type": "display_data"
    },
    {
     "data": {
      "text/plain": [
       "<IPython.core.display.HTML object>"
      ]
     },
     "metadata": {},
     "output_type": "display_data"
    },
    {
     "name": "stdout",
     "output_type": "stream",
     "text": [
      "https://github.com/cu-mkp/m-k-manuscript-data/blob/master/ms-txt/tl/tl_p078r_preTEI.txt\n"
     ]
    },
    {
     "data": {
      "text/html": [
       "<a href=https://github.com/cu-mkp/m-k-manuscript-data/blob/master/ms-txt/tl/tl_p078r_preTEI.txt>tl_p078r_preTEI.txt</a>"
      ],
      "text/plain": [
       "<IPython.core.display.HTML object>"
      ]
     },
     "metadata": {},
     "output_type": "display_data"
    },
    {
     "data": {
      "text/plain": [
       "<IPython.core.display.HTML object>"
      ]
     },
     "metadata": {},
     "output_type": "display_data"
    },
    {
     "name": "stdout",
     "output_type": "stream",
     "text": [
      "https://github.com/cu-mkp/m-k-manuscript-data/blob/master/ms-txt/tl/tl_p163v_preTEI.txt\n"
     ]
    },
    {
     "data": {
      "text/html": [
       "<a href=https://github.com/cu-mkp/m-k-manuscript-data/blob/master/ms-txt/tl/tl_p163v_preTEI.txt>tl_p163v_preTEI.txt</a>"
      ],
      "text/plain": [
       "<IPython.core.display.HTML object>"
      ]
     },
     "metadata": {},
     "output_type": "display_data"
    },
    {
     "data": {
      "text/plain": [
       "<IPython.core.display.HTML object>"
      ]
     },
     "metadata": {},
     "output_type": "display_data"
    },
    {
     "name": "stdout",
     "output_type": "stream",
     "text": [
      "Link to Frantext search for vermillion\n",
      "\n"
     ]
    },
    {
     "data": {
      "text/html": [
       "<a href=https://artflsrv03.uchicago.edu/philologic4/frantext0917/query?report=kwic&method=proxy&q=vermillion&start=0&end=0&direction=&metadata_sorting_field=>Frantext search for vermillion</a>"
      ],
      "text/plain": [
       "<IPython.core.display.HTML object>"
      ]
     },
     "metadata": {},
     "output_type": "display_data"
    },
    {
     "data": {
      "text/plain": [
       "<IPython.core.display.HTML object>"
      ]
     },
     "metadata": {},
     "output_type": "display_data"
    },
    {
     "name": "stdout",
     "output_type": "stream",
     "text": [
      "Input 2 to search for more materials, 3 for red pigments/dyes, 4 for red colors, or 0 to return to the main menu.\n",
      "Input your choice: 3\n",
      "Red pigments/dyes. The list of dyes will be printed. Input the pigment/dye you want.\n",
      "incarnadine\n",
      "\n",
      "lake\n",
      "\n",
      "minium\n",
      "\n",
      "vermillion\n",
      "\n",
      "umber\n",
      "\n",
      "armenian bole\n",
      "\n",
      "dragon's blood\n",
      "\n",
      "burnt earth\n",
      "\n",
      "sanguine\n",
      "\n",
      "cochineal\n",
      "\n",
      "madder\n",
      "\n",
      "scarlet pastel\n",
      "\n",
      "brazilwood\n",
      "\n",
      "crocum ferri\n",
      "\n",
      "aes ustum\n",
      "Please enter the pigment/dye you want EXACTLY as it appeared - all lowercase, spaces where appropriate.\n",
      "Please input your desired pigment/dye.sanguine\n",
      "Searching for: sanguine\n",
      "\n"
     ]
    },
    {
     "data": {
      "image/png": "[encoded data removed]",
      "text/plain": [
       "<matplotlib.figure.Figure at 0x25cdad2e5f8>"
      ]
     },
     "metadata": {},
     "output_type": "display_data"
    },
    {
     "name": "stdout",
     "output_type": "stream",
     "text": [
      "tl_p006r_preTEI.txt\n",
      "==========\n",
      "\n",
      "\n",
      "Displaying 1 of 1 matches:\n",
      ". Next take fine Armenian bole & sanguine , as much of one as of the other\n",
      "==========\n",
      "\n",
      "\n",
      "tl_p012r_preTEI.txt\n",
      "==========\n",
      "\n",
      "\n",
      "Displaying 1 of 1 matches:\n",
      "                                 sanguine , which renders it harder and st\n",
      "==========\n",
      "\n",
      "\n",
      "tl_p012v_preTEI.txt\n",
      "==========\n",
      "\n",
      "\n",
      "Displaying 1 of 1 matches:\n",
      "                                 sanguine & incorporate it with melted wax\n",
      "==========\n",
      "\n",
      "\n",
      "tl_p032r_preTEI.txt\n",
      "==========\n",
      "\n",
      "\n",
      "Displaying 1 of 1 matches:\n",
      "y sugar in water and mix it with sanguine that they call cocon , thoroughl\n",
      "==========\n",
      "\n",
      "\n",
      "tl_p032v_preTEI.txt\n",
      "==========\n",
      "\n",
      "\n",
      "Displaying 1 of 1 matches:\n",
      " make their common red with some sanguine , looking-glass tin , rock piece\n",
      "==========\n",
      "\n",
      "\n",
      "tl_p037v_preTEI.txt\n",
      "==========\n",
      "\n",
      "\n",
      "Displaying 2 of 2 matches:\n",
      "ke it from silver , the red from sanguine , as is said elsewhere , the bla\n",
      "k , the carnation with the light sanguine . The green is made first from y\n",
      "==========\n",
      "\n",
      "\n",
      "tl_p111v_preTEI.txt\n",
      "==========\n",
      "\n",
      "\n",
      "Displaying 1 of 1 matches:\n",
      "s of lead & tin , one pulverizes sanguine & with some cloths , one rubs th\n",
      "==========\n",
      "\n",
      "\n",
      "Links to folios\n",
      "\n",
      "https://github.com/cu-mkp/m-k-manuscript-data/blob/master/ms-txt/tl/tl_p006r_preTEI.txt\n"
     ]
    },
    {
     "data": {
      "text/html": [
       "<a href=https://github.com/cu-mkp/m-k-manuscript-data/blob/master/ms-txt/tl/tl_p006r_preTEI.txt>tl_p006r_preTEI.txt</a>"
      ],
      "text/plain": [
       "<IPython.core.display.HTML object>"
      ]
     },
     "metadata": {},
     "output_type": "display_data"
    },
    {
     "data": {
      "text/plain": [
       "<IPython.core.display.HTML object>"
      ]
     },
     "metadata": {},
     "output_type": "display_data"
    },
    {
     "name": "stdout",
     "output_type": "stream",
     "text": [
      "https://github.com/cu-mkp/m-k-manuscript-data/blob/master/ms-txt/tl/tl_p012r_preTEI.txt\n"
     ]
    },
    {
     "data": {
      "text/html": [
       "<a href=https://github.com/cu-mkp/m-k-manuscript-data/blob/master/ms-txt/tl/tl_p012r_preTEI.txt>tl_p012r_preTEI.txt</a>"
      ],
      "text/plain": [
       "<IPython.core.display.HTML object>"
      ]
     },
     "metadata": {},
     "output_type": "display_data"
    },
    {
     "data": {
      "text/plain": [
       "<IPython.core.display.HTML object>"
      ]
     },
     "metadata": {},
     "output_type": "display_data"
    },
    {
     "name": "stdout",
     "output_type": "stream",
     "text": [
      "https://github.com/cu-mkp/m-k-manuscript-data/blob/master/ms-txt/tl/tl_p012v_preTEI.txt\n"
     ]
    },
    {
     "data": {
      "text/html": [
       "<a href=https://github.com/cu-mkp/m-k-manuscript-data/blob/master/ms-txt/tl/tl_p012v_preTEI.txt>tl_p012v_preTEI.txt</a>"
      ],
      "text/plain": [
       "<IPython.core.display.HTML object>"
      ]
     },
     "metadata": {},
     "output_type": "display_data"
    },
    {
     "data": {
      "text/plain": [
       "<IPython.core.display.HTML object>"
      ]
     },
     "metadata": {},
     "output_type": "display_data"
    },
    {
     "name": "stdout",
     "output_type": "stream",
     "text": [
      "https://github.com/cu-mkp/m-k-manuscript-data/blob/master/ms-txt/tl/tl_p032r_preTEI.txt\n"
     ]
    },
    {
     "data": {
      "text/html": [
       "<a href=https://github.com/cu-mkp/m-k-manuscript-data/blob/master/ms-txt/tl/tl_p032r_preTEI.txt>tl_p032r_preTEI.txt</a>"
      ],
      "text/plain": [
       "<IPython.core.display.HTML object>"
      ]
     },
     "metadata": {},
     "output_type": "display_data"
    },
    {
     "data": {
      "text/plain": [
       "<IPython.core.display.HTML object>"
      ]
     },
     "metadata": {},
     "output_type": "display_data"
    },
    {
     "name": "stdout",
     "output_type": "stream",
     "text": [
      "https://github.com/cu-mkp/m-k-manuscript-data/blob/master/ms-txt/tl/tl_p032v_preTEI.txt\n"
     ]
    },
    {
     "data": {
      "text/html": [
       "<a href=https://github.com/cu-mkp/m-k-manuscript-data/blob/master/ms-txt/tl/tl_p032v_preTEI.txt>tl_p032v_preTEI.txt</a>"
      ],
      "text/plain": [
       "<IPython.core.display.HTML object>"
      ]
     },
     "metadata": {},
     "output_type": "display_data"
    },
    {
     "data": {
      "text/plain": [
       "<IPython.core.display.HTML object>"
      ]
     },
     "metadata": {},
     "output_type": "display_data"
    },
    {
     "name": "stdout",
     "output_type": "stream",
     "text": [
      "https://github.com/cu-mkp/m-k-manuscript-data/blob/master/ms-txt/tl/tl_p037v_preTEI.txt\n"
     ]
    },
    {
     "data": {
      "text/html": [
       "<a href=https://github.com/cu-mkp/m-k-manuscript-data/blob/master/ms-txt/tl/tl_p037v_preTEI.txt>tl_p037v_preTEI.txt</a>"
      ],
      "text/plain": [
       "<IPython.core.display.HTML object>"
      ]
     },
     "metadata": {},
     "output_type": "display_data"
    },
    {
     "data": {
      "text/plain": [
       "<IPython.core.display.HTML object>"
      ]
     },
     "metadata": {},
     "output_type": "display_data"
    },
    {
     "name": "stdout",
     "output_type": "stream",
     "text": [
      "https://github.com/cu-mkp/m-k-manuscript-data/blob/master/ms-txt/tl/tl_p111v_preTEI.txt\n"
     ]
    },
    {
     "data": {
      "text/html": [
       "<a href=https://github.com/cu-mkp/m-k-manuscript-data/blob/master/ms-txt/tl/tl_p111v_preTEI.txt>tl_p111v_preTEI.txt</a>"
      ],
      "text/plain": [
       "<IPython.core.display.HTML object>"
      ]
     },
     "metadata": {},
     "output_type": "display_data"
    },
    {
     "data": {
      "text/plain": [
       "<IPython.core.display.HTML object>"
      ]
     },
     "metadata": {},
     "output_type": "display_data"
    },
    {
     "name": "stdout",
     "output_type": "stream",
     "text": [
      "Link to Frantext search for sanguine\n",
      "\n"
     ]
    },
    {
     "data": {
      "text/html": [
       "<a href=https://artflsrv03.uchicago.edu/philologic4/frantext0917/query?report=kwic&method=proxy&q=sanguine&start=0&end=0&direction=&metadata_sorting_field=>Frantext search for sanguine</a>"
      ],
      "text/plain": [
       "<IPython.core.display.HTML object>"
      ]
     },
     "metadata": {},
     "output_type": "display_data"
    },
    {
     "data": {
      "text/plain": [
       "<IPython.core.display.HTML object>"
      ]
     },
     "metadata": {},
     "output_type": "display_data"
    },
    {
     "name": "stdout",
     "output_type": "stream",
     "text": [
      "Input 3 to search for more pigments/dyes, 2 to search for materials, 4 for red colors, or 0 to return to the main menu.\n"
     ]
    }
   ],
   "source": [
    "import nltk\n",
    "import pandas as pd\n",
    "import os\n",
    "import sys\n",
    "from IPython.core.display import display, HTML\n",
    "import numpy\n",
    "import matplotlib\n",
    "\n",
    "#sys.stdout = open('concordanceResults.txt', 'w')\n",
    "\n",
    "#os.system(\"all_tl.txt.txt\")\n",
    "\n",
    "#cwd = os.getcwd()\n",
    "#print (cwd)\n",
    "''' How should this be organized? Menu eventually reaches an 'option'; from \n",
    "there, I want to...\n",
    "-make a 'results' file that everything will get written to (or maybe just a list??)\n",
    "-iterate through all the txt files, pull out the entry name (which is just the file name)\n",
    "-append entry to 'entry list' if concordance results are not null\n",
    "-append concordance results to...something? a string?? hmm, write them to file\n",
    "-link to github/frantext and such\n",
    "-maybe open image?\n",
    "-WOW!! 60+ materials...making a sub-menu for each of these is going to fucking suck. How to make this more efficient??\n",
    "    Maybe...print out list of materials, tell user to type in which one they want in PARTICULAR and feed that into 'option'??'''\n",
    "\n",
    "'''Make list of entries clicakble!!!! easy to do, string join with some library to make clickable'''\n",
    "\n",
    "\n",
    "'''tlRaw = open(\"all_tl.txt.txt\", encoding=\"utf8\").read()\n",
    "tlTokenized = nltk.word_tokenize(tlRaw)\n",
    "tl = nltk.Text(tlTokenized)\n",
    "\n",
    "tl.concordance(\"dragon\")\n",
    "tl.concordance(\"purple\")\n",
    "tl.concordance(\"orange\")\n",
    "tl.concordance(\"yellow\", lines=100)\n",
    "tl.concordance(\"green\", lines = 1000)'''\n",
    "\n",
    "def cindex_menu():\n",
    "    choice = '0'\n",
    "    while choice == '0':\n",
    "        print(\"Chromatic Index for Bnf Ms Fr 640. Please press 1 for Red when prompted, or ''e'' to exit.\")\n",
    "        \n",
    "        color_choice = input('Input 1 for Red or e to exit.')\n",
    "        if color_choice=='e':\n",
    "            sys.exit()\n",
    "        \n",
    "        if color_choice == '1':\n",
    "            print('Red. Press 1 for the generic color \"red\"; press 2 for red materials; press 3 for red pigments/dyes; press 4 for colors derived from red; press 0 to return to main menu.')\n",
    "    \n",
    "            red_choice = input('Input 1, 2, 3, 4, or 0.')\n",
    "            if red_choice=='0':\n",
    "                cindex_menu()\n",
    "            \n",
    "            while red_choice == '1':\n",
    "                print('Generic red.')\n",
    "                searchFolios(\"red\")\n",
    "                red_choice = input('Input 2 for red materials, 3 for red pigments/dyes, 4 for colors derived from red, or 0 to return to the main menu. ')\n",
    "                if red_choice=='0':\n",
    "                    cindex_menu()\n",
    "                \n",
    "                searchFolios('red')\n",
    "                      \n",
    "            while red_choice == '2':\n",
    "                print('Red materials. The list of materials will be printed, input the material you want.')\n",
    "                \n",
    "                materialsList = open(\"redMaterialsList.txt\", encoding=\"utf8\").readlines()\n",
    "                for word in materialsList:\n",
    "                    print(word)\n",
    "                \n",
    "                print(\"Please enter the material you want EXACTLY as it appeared - all lowercase, spaces where appropriate.\")\n",
    "                material_choice = input('Please input your desired material: ')\n",
    "                \n",
    "                searchFolios(material_choice)\n",
    "                \n",
    "                print('Input 2 to search for more materials, 3 for red pigments/dyes, 4 for red colors, or 0 to return to the main menu.')\n",
    "                red_choice = input('Input your choice: ')\n",
    "                \n",
    "            while red_choice == '3':\n",
    "                pigmentsDyesList = open(\"redPigmentsDyesList.txt\", encoding=\"utf8\").readlines()\n",
    "                print('Red pigments/dyes. The list of dyes will be printed. Input the pigment/dye you want.')\n",
    "                for word in pigmentsDyesList:\n",
    "                    print(word)\n",
    "                \n",
    "                print(\"Please enter the pigment/dye you want EXACTLY as it appeared - all lowercase, spaces where appropriate.\")\n",
    "                pdChoice = input('Please input your desired pigment/dye.')\n",
    "                searchFolios(pdChoice)\n",
    "                \n",
    "                print(\"Input 3 to search for more pigments/dyes, 2 to search for materials, 4 for red colors, or 0 to return to the main menu.\")\n",
    "                red_choice = input(\"Input your choice: \")\n",
    " \n",
    "                \n",
    "            while red_choice == '4':\n",
    "                print('Red colors. The list of colors will be printed...')\n",
    "                colorsList = open(\"redColors.txt\", encoding=\"utf8\").readlines()\n",
    "                for word in colorsList:\n",
    "                    print(word)\n",
    "                \n",
    "                print(\"Please enter the color you want EXACTLY as it appeared - all lowercase, spaces where appropriate.\")\n",
    "                searchColorChoice = input('Please input your desired color: ')\n",
    "                searchFolios(searchColorChoice)\n",
    "                \n",
    "                print(\"Input 4 to search for more colors, 2 to search for materials, 3 for pigments/dyes, or 0 to return to the main menu.\")\n",
    "                red_choice = input(\"Input your choice: \")\n",
    " \n",
    "            \n",
    "            while red_choice == '5':\n",
    "                color_choice == '1'\n",
    "\n",
    "    while choice == '2':\n",
    "        sys.exit()\n",
    "        \n",
    "    if choice != '1' and choice != '2':\n",
    "        print('WHAT?!?! Try again, input 1, please.')\n",
    "        cindex_menu()\n",
    "        \n",
    "#phrase cocordance??? https://stackoverflow.com/questions/33813405/concordance-for-a-phrase-using-nltk-in-python\n",
    "'''def n_concordance_tokenised(text,phrase,left_margin=5,right_margin=5):\n",
    "    #concordance replication via https://simplypython.wordpress.com/2014/03/14/saving-output-of-nltk-text-concordance/\n",
    "\n",
    "    phraseList=phrase.split(' ')\n",
    "\n",
    "    c = nltk.ConcordanceIndex(text.tokens, key = lambda s: s.lower())\n",
    "\n",
    "    #Find the offset for each token in the phrase\n",
    "    offsets=[c.offsets(x) for x in phraseList]\n",
    "    offsets_norm=[]\n",
    "    #For each token in the phraselist, find the offsets and rebase them to the start of the phrase\n",
    "    for i in range(len(phraseList)):\n",
    "        offsets_norm.append([x-i for x in offsets[i]])\n",
    "    #We have found the offset of a phrase if the rebased values intersect\n",
    "    #--\n",
    "    # http://stackoverflow.com/a/3852792/454773\n",
    "    #the intersection method takes an arbitrary amount of arguments\n",
    "    #result = set(d[0]).intersection(*d[1:])\n",
    "    #--\n",
    "    intersects=set(offsets_norm[0]).intersection(*offsets_norm[1:])\n",
    "\n",
    "    concordance_txt = ([text.tokens[map(lambda x: x-left_margin if (x-left_margin)&gt;0 else 0,[offset])[0]:offset+len(phraseList)+right_margin] for offset in intersects])\n",
    "\n",
    "    outputs=[''.join([x+' ' for x in con_sub]) for con_sub in concordance_txt]\n",
    "    return outputs\n",
    "\n",
    "def n_concordance(txt,phrase,left_margin=5,right_margin=5):\n",
    "    tokens = nltk.word_tokenize(txt)\n",
    "    text = nltk.Text(tokens)\n",
    "\n",
    "    return\n",
    "\n",
    "#n_concordance_tokenised(text,phrase,left_margin=left_margin,right_margin=right_margin)'''\n",
    "            \n",
    "def searchFolios(option):\n",
    "    \n",
    "    folioList = []\n",
    "    #optionBarList = []\n",
    "    #opbarInd = 1\n",
    "    \n",
    "    alltlRaw = open(\"all_tl.txt.txt\", encoding=\"utf8\").read()\n",
    "    alltlTokenized = nltk.word_tokenize(alltlRaw)\n",
    "    alltl = nltk.Text(alltlTokenized)\n",
    "    \n",
    "    print('Searching for: ' + option + '\\n')\n",
    "    alltl.dispersion_plot([option])\n",
    "    #alltl.dispersion_plot([\"red\", \"blue\", \"yellow\", \"green\"])\n",
    "    \n",
    "    for filename in os.listdir('BnfTL'):\n",
    "        tlRaw = open(('./BnfTL/' + filename), encoding=\"utf8\").read()\n",
    "        tlTokenized = nltk.word_tokenize(tlRaw)\n",
    "        tl = nltk.Text(tlTokenized)\n",
    "        #tl = tl.lower()\n",
    "        \n",
    "        #kwicFile = filename+'kwicFile'\n",
    "        #sys.stdout = open(kwicFile, 'w')\n",
    "        \n",
    "        #concordanceCheck\n",
    "        '''if(tl.concordance(option, lines = 10000)) is not None:\n",
    "            \n",
    "            print(filename)\n",
    "            print('\\n')\n",
    "            \n",
    "            kwic = nltk.ConcordanceIndex(tl)\n",
    "            for line in kwic:\n",
    "                if kwic.offsets(option):\n",
    "                    kwic.print_concordance(option)'''\n",
    "            \n",
    "        '''kwic = tl.concordance(option, lines = 1000)\n",
    "            for line in kwic:\n",
    "                if line.offsets(line):\n",
    "                    line.print'''\n",
    "        \n",
    "        kwic = nltk.ConcordanceIndex(tl)\n",
    "        \n",
    "        if kwic.offsets(option):\n",
    "            print(filename)\n",
    "            print('==========')\n",
    "            print('\\n')\n",
    "            kwic.print_concordance(option)\n",
    "            print('==========')\n",
    "            print('\\n')\n",
    "            folioList.append(filename)\n",
    "            #optionBarList[opbarInd] = tl.count(option)\n",
    "            #opbarInd +=1\n",
    "            #optionBarList.append(tl.count(option))\n",
    "     \n",
    "    print(\"Links to folios\" + \"\\n\")\n",
    "    \n",
    "    for folio in folioList:\n",
    "        folioURL = 'https://github.com/cu-mkp/m-k-manuscript-data/blob/master/ms-txt/tl/' + folio\n",
    "        print(folioURL)\n",
    "        folioLink = display(HTML(\"<a href=\" + folioURL + \">\" + folio + \"</a>\"))\n",
    "        display(HTML(folioLink))\n",
    "        \n",
    "    print('Link to Frantext search for ' + option + '\\n')\n",
    "    frantextURL = 'https://artflsrv03.uchicago.edu/philologic4/frantext0917/query?report=kwic&method=proxy&q=' + option + '&start=0&end=0&direction=&metadata_sorting_field='\n",
    "    frantextLink =  display(HTML(\"<a href=\" + frantextURL + \">\" + 'Frantext search for ' + option + \"</a>\"))   \n",
    "    display(HTML(frantextLink))\n",
    "\n",
    "cindex_menu()\n",
    "    \n",
    "        \n",
    "    \n"
   ]
  },
  {
   "cell_type": "code",
   "execution_count": null,
   "metadata": {
    "collapsed": true
   },
   "outputs": [],
   "source": []
  }
 ],
 "metadata": {
  "kernelspec": {
   "display_name": "Python 3",
   "language": "python",
   "name": "python3"
  },
  "language_info": {
   "codemirror_mode": {
    "name": "ipython",
    "version": 3
   },
   "file_extension": ".py",
   "mimetype": "text/x-python",
   "name": "python",
   "nbconvert_exporter": "python",
   "pygments_lexer": "ipython3",
   "version": "3.6.3"
  }
 },
 "nbformat": 4,
 "nbformat_minor": 2
}
